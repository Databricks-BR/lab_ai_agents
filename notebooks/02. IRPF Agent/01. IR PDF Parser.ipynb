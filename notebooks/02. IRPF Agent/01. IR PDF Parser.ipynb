{
 "cells": [
  {
   "cell_type": "markdown",
   "metadata": {
    "application/vnd.databricks.v1+cell": {
     "cellMetadata": {
      "byteLimit": 2048000,
      "rowLimit": 10000
     },
     "inputWidgets": {},
     "nuid": "4bdf801a-fa4b-4513-9cf9-342db6827075",
     "showTitle": false,
     "tableResultSettingsMap": {},
     "title": ""
    }
   },
   "source": [
    "%md <img src=\"https://github.com/Databricks-BR/lab_genai/blob/main/img/header.png?raw=true\" width=100%>\n",
    "\n",
    "# Hands-On LAB 02 - Preparando uma base de conhecimento\n",
    "\n",
    "Treinamento Hands-on na plataforma Databricks com foco nas funcionalidades de IA Generativa."
   ]
  },
  {
   "cell_type": "markdown",
   "metadata": {
    "application/vnd.databricks.v1+cell": {
     "cellMetadata": {
      "byteLimit": 2048000,
      "rowLimit": 10000
     },
     "inputWidgets": {},
     "nuid": "1590f2d2-38ff-47bb-8aa1-8c355d6e50c3",
     "showTitle": false,
     "tableResultSettingsMap": {},
     "title": ""
    }
   },
   "source": [
    "## Objetivo do exercício\n",
    "\n",
    "Este notebook tem como objetivo principal a criação de uma base de conhecimento a partir de documentos PDF. O processo inclui a instalação das bibliotecas necessárias, a extração e estruturação das informações contidas nesses documentos. A seguir, estão as etapas detalhadas:\n",
    "\n",
    "1. **Upload do PDF no Volume**: Faça o upload do arquivo PDF e armazene no volume de armazenamento do Databricks.\n",
    "2. **Instalação de Bibliotecas**: Instala as bibliotecas necessárias para manipulação e extração de dados de arquivos PDF.\n",
    "3. **Criação da Base de Conhecimento**: Extrai as informações dos PDFs e estrutura os dados em uma base de conhecimento utilizável para análises posteriores."
   ]
  },
  {
   "cell_type": "code",
   "execution_count": 0,
   "metadata": {
    "application/vnd.databricks.v1+cell": {
     "cellMetadata": {
      "byteLimit": 2048000,
      "rowLimit": 10000
     },
     "inputWidgets": {},
     "nuid": "e02bf614-7ed4-4f9d-9385-af7835114aea",
     "showTitle": false,
     "tableResultSettingsMap": {},
     "title": ""
    }
   },
   "outputs": [],
   "source": [
    "dbutils.widgets.text(\"CATALOG\", \"databricks_workshop_\")\n",
    "dbutils.widgets.text(\"SCHEMA\", \"agents\")"
   ]
  },
  {
   "cell_type": "code",
   "execution_count": 0,
   "metadata": {
    "application/vnd.databricks.v1+cell": {
     "cellMetadata": {
      "byteLimit": 2048000,
      "rowLimit": 10000
     },
     "inputWidgets": {},
     "nuid": "3797259a-1f46-4f97-b560-6e1f42c4909d",
     "showTitle": false,
     "tableResultSettingsMap": {},
     "title": ""
    }
   },
   "outputs": [],
   "source": [
    "%pip install PyMuPDF\n",
    "dbutils.library.restartPython()"
   ]
  },
  {
   "cell_type": "code",
   "execution_count": 0,
   "metadata": {
    "application/vnd.databricks.v1+cell": {
     "cellMetadata": {
      "byteLimit": 2048000,
      "rowLimit": 10000
     },
     "inputWidgets": {},
     "nuid": "a4cd6fbc-387f-40eb-81fb-4dcf62f99c9e",
     "showTitle": false,
     "tableResultSettingsMap": {},
     "title": ""
    }
   },
   "outputs": [],
   "source": [
    "CATALOG = dbutils.widgets.get(\"CATALOG\")\n",
    "SCHEMA = dbutils.widgets.get(\"SCHEMA\")"
   ]
  },
  {
   "cell_type": "code",
   "execution_count": 0,
   "metadata": {
    "application/vnd.databricks.v1+cell": {
     "cellMetadata": {
      "byteLimit": 2048000,
      "rowLimit": 10000
     },
     "inputWidgets": {},
     "nuid": "6b210c4d-f7f9-4aaa-9e61-2aace9c3ea03",
     "showTitle": false,
     "tableResultSettingsMap": {},
     "title": ""
    }
   },
   "outputs": [],
   "source": [
    "import re"
   ]
  },
  {
   "cell_type": "code",
   "execution_count": 0,
   "metadata": {
    "application/vnd.databricks.v1+cell": {
     "cellMetadata": {
      "byteLimit": 2048000,
      "rowLimit": 10000
     },
     "inputWidgets": {},
     "nuid": "e4808f5d-29c9-4fb1-809d-f4e5ecfae837",
     "showTitle": false,
     "tableResultSettingsMap": {},
     "title": ""
    }
   },
   "outputs": [],
   "source": [
    "import fitz\n",
    "\n",
    "def read_pdf(pdf_path):\n",
    "    doc = fitz.open(pdf_path)\n",
    "    text = \"\"\n",
    "    for page in doc:\n",
    "        text += page.get_text()\n",
    "    return text.replace(\"\\n\", \"\")"
   ]
  },
  {
   "cell_type": "code",
   "execution_count": 0,
   "metadata": {
    "application/vnd.databricks.v1+cell": {
     "cellMetadata": {
      "byteLimit": 2048000,
      "rowLimit": 10000
     },
     "inputWidgets": {},
     "nuid": "6533c089-342a-47ac-921f-6c63fcdcf371",
     "showTitle": true,
     "tableResultSettingsMap": {},
     "title": "Path to Original PDF"
    }
   },
   "outputs": [],
   "source": [
    "pdf_path = \"/Volumes/workshop_databricks_jsf/agents/vol_ir/P&R IRPF 2024 - v1.0 - 2024.05.03.pdf\""
   ]
  },
  {
   "cell_type": "code",
   "execution_count": 0,
   "metadata": {
    "application/vnd.databricks.v1+cell": {
     "cellMetadata": {
      "byteLimit": 2048000,
      "rowLimit": 10000
     },
     "inputWidgets": {},
     "nuid": "be820b93-b828-4650-8801-5fc785f2ae7c",
     "showTitle": false,
     "tableResultSettingsMap": {},
     "title": ""
    }
   },
   "outputs": [],
   "source": [
    "pdf_text = read_pdf(pdf_path)\n",
    "regex_pattern = r\"\\d{3} [—-](.*?)Retorno ao sumário\""
   ]
  },
  {
   "cell_type": "code",
   "execution_count": 0,
   "metadata": {
    "application/vnd.databricks.v1+cell": {
     "cellMetadata": {
      "byteLimit": 2048000,
      "rowLimit": 10000
     },
     "inputWidgets": {},
     "nuid": "63b50aa2-974b-49aa-b986-b3c6e807a031",
     "showTitle": false,
     "tableResultSettingsMap": {},
     "title": ""
    }
   },
   "outputs": [],
   "source": [
    "lista_perguntas = re.findall(regex_pattern,pdf_text)"
   ]
  },
  {
   "cell_type": "code",
   "execution_count": 0,
   "metadata": {
    "application/vnd.databricks.v1+cell": {
     "cellMetadata": {
      "byteLimit": 2048000,
      "rowLimit": 10000
     },
     "inputWidgets": {},
     "nuid": "7cec1a8a-a04e-448d-9da8-b31cd0713303",
     "showTitle": false,
     "tableResultSettingsMap": {},
     "title": ""
    }
   },
   "outputs": [],
   "source": [
    "lista_perguntas_respostas = [x.strip().split(\"?\", 1) for x in lista_perguntas]\n",
    "lista_perguntas_respostas_qm = [\n",
    "    [\n",
    "        {\n",
    "          \"Pergunta\": p + \"?\",\n",
    "          \"Resposta\": r.strip()\n",
    "        }\n",
    "    ]\n",
    "    for p, r in lista_perguntas_respostas\n",
    "]\n",
    "\n",
    "lista_perguntas_respostas_qm = [[entry] for entry in lista_perguntas_respostas_qm]"
   ]
  },
  {
   "cell_type": "code",
   "execution_count": 0,
   "metadata": {
    "application/vnd.databricks.v1+cell": {
     "cellMetadata": {
      "byteLimit": 2048000,
      "rowLimit": 10000
     },
     "inputWidgets": {},
     "nuid": "04ed48d3-55e4-4d20-a369-3c45c34900a1",
     "showTitle": false,
     "tableResultSettingsMap": {},
     "title": ""
    }
   },
   "outputs": [],
   "source": [
    "from pyspark.sql.functions import monotonically_increasing_id, to_json, col \n",
    "from pyspark.sql.types import  StructType, StructField, StringType, ArrayType\n",
    "\n",
    "schema = StructType([\n",
    "    StructField('chunk', ArrayType(\n",
    "        StructType([\n",
    "            StructField('Pergunta', StringType(), True),\n",
    "            StructField('Resposta', StringType(), True)\n",
    "        ]), True), True)\n",
    "])\n",
    "\n",
    "df = spark.createDataFrame(lista_perguntas_respostas_qm, schema)\n",
    "df = df.withColumn('chunk', to_json(col('chunk')))\n",
    "df = df.withColumn('id', monotonically_increasing_id())"
   ]
  },
  {
   "cell_type": "code",
   "execution_count": 0,
   "metadata": {
    "application/vnd.databricks.v1+cell": {
     "cellMetadata": {
      "byteLimit": 2048000,
      "rowLimit": 10000
     },
     "inputWidgets": {},
     "nuid": "05d3fb1f-f0e2-42b1-b6fc-0c0a9e192652",
     "showTitle": false,
     "tableResultSettingsMap": {},
     "title": ""
    }
   },
   "outputs": [],
   "source": [
    "df.display()"
   ]
  },
  {
   "cell_type": "code",
   "execution_count": 0,
   "metadata": {
    "application/vnd.databricks.v1+cell": {
     "cellMetadata": {
      "byteLimit": 2048000,
      "rowLimit": 10000
     },
     "inputWidgets": {},
     "nuid": "bc1e96c3-edcd-4656-815d-60f2059659ef",
     "showTitle": false,
     "tableResultSettingsMap": {},
     "title": ""
    }
   },
   "outputs": [],
   "source": [
    "df.write.mode(\"overwrite\").saveAsTable(f\"{CATALOG}.{SCHEMA}.ir_pdf_doc\")"
   ]
  },
  {
   "cell_type": "code",
   "execution_count": 0,
   "metadata": {
    "application/vnd.databricks.v1+cell": {
     "cellMetadata": {
      "byteLimit": 2048000,
      "implicitDf": true,
      "rowLimit": 10000
     },
     "inputWidgets": {},
     "nuid": "47754638-e896-4500-965d-aa906ecf8196",
     "showTitle": false,
     "tableResultSettingsMap": {},
     "title": ""
    }
   },
   "outputs": [],
   "source": [
    "%sql\n",
    "SELECT * FROM workshop_databricks_jsf.agents.ir_pdf_doc"
   ]
  },
  {
   "cell_type": "markdown",
   "metadata": {
    "application/vnd.databricks.v1+cell": {
     "cellMetadata": {
      "byteLimit": 2048000,
      "rowLimit": 10000
     },
     "inputWidgets": {},
     "nuid": "508df5d6-836e-4fca-a5e6-6a185c4b7381",
     "showTitle": false,
     "tableResultSettingsMap": {},
     "title": ""
    }
   },
   "source": [
    "Ativando o log da tabela para caso quisermos que a cada nova informação na tabela, a nossa base de conhecimento atualize."
   ]
  },
  {
   "cell_type": "code",
   "execution_count": 0,
   "metadata": {
    "application/vnd.databricks.v1+cell": {
     "cellMetadata": {
      "byteLimit": 2048000,
      "rowLimit": 10000
     },
     "inputWidgets": {},
     "nuid": "2355194e-4247-49f0-803a-83ec3bef294a",
     "showTitle": false,
     "tableResultSettingsMap": {},
     "title": ""
    }
   },
   "outputs": [],
   "source": [
    "spark.sql(f\"alter table {CATALOG}.{SCHEMA}.ir_pdf_doc set TBLPROPERTIES  (delta.enableChangeDataFeed = true)\")"
   ]
  }
 ],
 "metadata": {
  "application/vnd.databricks.v1+notebook": {
   "computePreferences": null,
   "dashboards": [],
   "environmentMetadata": null,
   "inputWidgetPreferences": null,
   "language": "python",
   "notebookMetadata": {
    "mostRecentlyExecutedCommandWithImplicitDF": {
     "commandId": 2805190872777049,
     "dataframes": [
      "_sqldf"
     ]
    },
    "pythonIndentUnit": 2
   },
   "notebookName": "01. IR PDF Parser",
   "widgets": {
    "CATALOG": {
     "currentValue": "workshop_databricks_jsf",
     "nuid": "2e18a661-b00d-4137-9dcc-163aa822bc3e",
     "typedWidgetInfo": {
      "autoCreated": false,
      "defaultValue": "databricks_workshop_",
      "label": null,
      "name": "CATALOG",
      "options": {
       "widgetDisplayType": "Text",
       "validationRegex": null
      },
      "parameterDataType": "String"
     },
     "widgetInfo": {
      "widgetType": "text",
      "defaultValue": "databricks_workshop_",
      "label": null,
      "name": "CATALOG",
      "options": {
       "widgetType": "text",
       "autoCreated": null,
       "validationRegex": null
      }
     }
    },
    "SCHEMA": {
     "currentValue": "agents",
     "nuid": "0244cb9c-23f3-4919-bf50-ddd1ca133a4c",
     "typedWidgetInfo": {
      "autoCreated": false,
      "defaultValue": "agents",
      "label": null,
      "name": "SCHEMA",
      "options": {
       "widgetDisplayType": "Text",
       "validationRegex": null
      },
      "parameterDataType": "String"
     },
     "widgetInfo": {
      "widgetType": "text",
      "defaultValue": "agents",
      "label": null,
      "name": "SCHEMA",
      "options": {
       "widgetType": "text",
       "autoCreated": null,
       "validationRegex": null
      }
     }
    }
   }
  },
  "language_info": {
   "name": "python"
  }
 },
 "nbformat": 4,
 "nbformat_minor": 0
}
