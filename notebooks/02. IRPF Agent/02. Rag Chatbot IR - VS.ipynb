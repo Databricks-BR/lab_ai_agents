{
 "cells": [
  {
   "cell_type": "markdown",
   "metadata": {
    "application/vnd.databricks.v1+cell": {
     "cellMetadata": {
      "byteLimit": 2048000,
      "rowLimit": 10000
     },
     "inputWidgets": {},
     "nuid": "2f0ab7a6-b9fa-4625-bfe7-f636104804f4",
     "showTitle": false,
     "tableResultSettingsMap": {},
     "title": ""
    }
   },
   "source": [
    "%md <img src=\"https://github.com/Databricks-BR/lab_genai/blob/main/img/header.png?raw=true\" width=100%>\n",
    "\n",
    "# Hands-On LAB 02 - Usando Agentes\n",
    "\n",
    "Treinamento Hands-on na plataforma Databricks com foco nas funcionalidades de IA Generativa."
   ]
  },
  {
   "cell_type": "markdown",
   "metadata": {
    "application/vnd.databricks.v1+cell": {
     "cellMetadata": {
      "byteLimit": 2048000,
      "rowLimit": 10000
     },
     "inputWidgets": {},
     "nuid": "f901f7c8-cd20-4391-b7c4-08ac3e33573c",
     "showTitle": false,
     "tableResultSettingsMap": {},
     "title": ""
    }
   },
   "source": [
    "## Objetivo do exercício\n",
    "\n",
    "Este notebook tem como objetivo principal a criação de uma base de conhecimento a partir de documentos PDF. O processo inclui a instalação das bibliotecas necessárias, a extração e estruturação das informações contidas nesses documentos. A seguir, estão as etapas detalhadas:\n",
    "\n",
    "1. **Upload do PDF no Volume**: Faça o upload do arquivo PDF e armazene no volume de armazenamento do Databricks.\n",
    "2. **Instalação de Bibliotecas**: Instala as bibliotecas necessárias para manipulação e extração de dados de arquivos PDF.\n",
    "3. **Criação da Base de Conhecimento**: Extrai as informações dos PDFs e estrutura os dados em uma base de conhecimento utilizável para análises posteriores."
   ]
  },
  {
   "cell_type": "markdown",
   "metadata": {
    "application/vnd.databricks.v1+cell": {
     "cellMetadata": {
      "byteLimit": 2048000,
      "rowLimit": 10000
     },
     "inputWidgets": {},
     "nuid": "4bd7cc50-a19f-4dc5-a71b-70d155ed4f97",
     "showTitle": false,
     "tableResultSettingsMap": {},
     "title": ""
    }
   },
   "source": [
    "## Instalação de Bibliotecas"
   ]
  },
  {
   "cell_type": "code",
   "execution_count": 0,
   "metadata": {
    "application/vnd.databricks.v1+cell": {
     "cellMetadata": {
      "byteLimit": 2048000,
      "rowLimit": 10000
     },
     "inputWidgets": {},
     "nuid": "0e6aa505-00d4-49ab-8a74-bb93c7ff883c",
     "showTitle": false,
     "tableResultSettingsMap": {},
     "title": ""
    }
   },
   "outputs": [],
   "source": [
    "%pip install mlflow==2.10.2 langchain==0.1.6 databricks-vectorsearch==0.22 databricks-sdk==0.18.0 mlflow[databricks] langchain-community==0.0.19\n",
    "dbutils.library.restartPython()\n"
   ]
  },
  {
   "cell_type": "markdown",
   "metadata": {
    "application/vnd.databricks.v1+cell": {
     "cellMetadata": {
      "byteLimit": 2048000,
      "rowLimit": 10000
     },
     "inputWidgets": {},
     "nuid": "344afb7e-c49c-4d84-a0c6-97efa12f2d5b",
     "showTitle": false,
     "tableResultSettingsMap": {},
     "title": ""
    }
   },
   "source": [
    "### Configuração do ambiente"
   ]
  },
  {
   "cell_type": "code",
   "execution_count": 0,
   "metadata": {
    "application/vnd.databricks.v1+cell": {
     "cellMetadata": {
      "byteLimit": 2048000,
      "rowLimit": 10000
     },
     "inputWidgets": {},
     "nuid": "83b0b37e-fc07-4eba-935f-8b3262e2d915",
     "showTitle": false,
     "tableResultSettingsMap": {},
     "title": ""
    }
   },
   "outputs": [],
   "source": [
    "%run \"./_setup/setup\""
   ]
  },
  {
   "cell_type": "code",
   "execution_count": 0,
   "metadata": {
    "application/vnd.databricks.v1+cell": {
     "cellMetadata": {
      "byteLimit": 2048000,
      "rowLimit": 10000
     },
     "inputWidgets": {},
     "nuid": "e5443f73-eaed-47de-bac4-722715e25c3a",
     "showTitle": false,
     "tableResultSettingsMap": {},
     "title": ""
    }
   },
   "outputs": [],
   "source": [
    "dbutils.widgets.text(\"volume_path\",f\"/Volumes/{catalogo}/{schema}/vol_ir\",\"Caminho para o Volume\")\n",
    "dbutils.widgets.text(\"catalog\",catalogo,\"Catálogo\")\n",
    "dbutils.widgets.text(\"schema\", schema ,\"Schema\")\n",
    "dbutils.widgets.text(\"vs_endpoint\",\"vs_workshop_23_07\",\"Nome do endpoint de Vector Search\")"
   ]
  },
  {
   "cell_type": "code",
   "execution_count": 0,
   "metadata": {
    "application/vnd.databricks.v1+cell": {
     "cellMetadata": {
      "byteLimit": 2048000,
      "rowLimit": 10000
     },
     "inputWidgets": {},
     "nuid": "20d54356-93cf-4bce-ab3b-f0841178ae2c",
     "showTitle": false,
     "tableResultSettingsMap": {},
     "title": ""
    }
   },
   "outputs": [],
   "source": [
    "volume_path=dbutils.widgets.get(\"volume_path\")\n",
    "catalog=dbutils.widgets.get(\"catalog\")\n",
    "sch=dbutils.widgets.get(\"schema\")\n",
    "vs_endpoint=dbutils.widgets.get(\"vs_endpoint\")"
   ]
  },
  {
   "cell_type": "code",
   "execution_count": 0,
   "metadata": {
    "application/vnd.databricks.v1+cell": {
     "cellMetadata": {
      "byteLimit": 2048000,
      "rowLimit": 10000
     },
     "inputWidgets": {},
     "nuid": "c5d8efc9-cc2b-4b38-9822-ded1f4cf65a8",
     "showTitle": false,
     "tableResultSettingsMap": {},
     "title": ""
    }
   },
   "outputs": [],
   "source": [
    "print(f\"Link do volume com o pdf: https://{dbutils.notebook.entry_point.getDbutils().notebook().getContext().browserHostName().get()}/explore/data/volumes/{catalogo}/{sch}/vol_ir\")"
   ]
  },
  {
   "cell_type": "markdown",
   "metadata": {
    "application/vnd.databricks.v1+cell": {
     "cellMetadata": {
      "byteLimit": 2048000,
      "rowLimit": 10000
     },
     "inputWidgets": {},
     "nuid": "25e55b3d-6b5a-4733-9a9f-fbe97a6bb770",
     "showTitle": false,
     "tableResultSettingsMap": {},
     "title": ""
    }
   },
   "source": [
    "## Criar o chat LLM sem a base de conhecimento\n",
    "\n",
    "Agora criaremos um chat sem a base de conhecimento, somente com o prompt."
   ]
  },
  {
   "cell_type": "code",
   "execution_count": 0,
   "metadata": {
    "application/vnd.databricks.v1+cell": {
     "cellMetadata": {
      "byteLimit": 2048000,
      "rowLimit": 10000
     },
     "inputWidgets": {},
     "nuid": "a7eb0ab6-9a31-4bc0-a777-83e8c313eff8",
     "showTitle": false,
     "tableResultSettingsMap": {},
     "title": ""
    }
   },
   "outputs": [],
   "source": [
    "from langchain_core.messages import HumanMessage, SystemMessage\n",
    "from langchain_community.chat_models import ChatDatabricks\n",
    "\n",
    "def chat(message):\n",
    "    messages = [\n",
    "        SystemMessage(content=\"Você é um assistente da receita federal que responde duvidas sobre IRPF no idioma português.\"),\n",
    "        HumanMessage(content=message)\n",
    "        ]\n",
    "\n",
    "    chat_model = ChatDatabricks(endpoint=instruct_model)\n",
    "    return (chat_model.invoke(messages).content)"
   ]
  },
  {
   "cell_type": "code",
   "execution_count": 0,
   "metadata": {
    "application/vnd.databricks.v1+cell": {
     "cellMetadata": {
      "byteLimit": 2048000,
      "rowLimit": 10000
     },
     "inputWidgets": {},
     "nuid": "c55f3d19-8ae4-4f22-913b-ab69e074e8ca",
     "showTitle": false,
     "tableResultSettingsMap": {},
     "title": ""
    }
   },
   "outputs": [],
   "source": [
    "chat(\"posso declarar minha sogra no IR?\")"
   ]
  },
  {
   "cell_type": "markdown",
   "metadata": {
    "application/vnd.databricks.v1+cell": {
     "cellMetadata": {
      "byteLimit": 2048000,
      "rowLimit": 10000
     },
     "inputWidgets": {},
     "nuid": "568de26d-7356-4f74-b587-7c7b6af6b3d6",
     "showTitle": false,
     "tableResultSettingsMap": {},
     "title": ""
    }
   },
   "source": [
    "## Criar o chat com a base de conhecimento (RAG)"
   ]
  },
  {
   "cell_type": "markdown",
   "metadata": {
    "application/vnd.databricks.v1+cell": {
     "cellMetadata": {
      "byteLimit": 2048000,
      "rowLimit": 10000
     },
     "inputWidgets": {},
     "nuid": "b69c29a3-5444-4890-b5c1-91e6f6084615",
     "showTitle": false,
     "tableResultSettingsMap": {},
     "title": ""
    }
   },
   "source": [
    "Criando o Vector Search"
   ]
  },
  {
   "cell_type": "code",
   "execution_count": 0,
   "metadata": {
    "application/vnd.databricks.v1+cell": {
     "cellMetadata": {
      "byteLimit": 2048000,
      "rowLimit": 10000
     },
     "inputWidgets": {},
     "nuid": "aed62006-6182-4bc3-96ea-992597ea3cf2",
     "showTitle": false,
     "tableResultSettingsMap": {},
     "title": ""
    }
   },
   "outputs": [],
   "source": [
    "from databricks.vector_search.client import VectorSearchClient\n",
    "vsc = VectorSearchClient(disable_notice=True)\n",
    "\n",
    "if not endpoint_exists(vsc, vs_endpoint):\n",
    "    vsc.create_endpoint(name=vs_endpoint, endpoint_type=\"STANDARD\")\n",
    "\n",
    "wait_for_vs_endpoint_to_be_ready(vsc, vs_endpoint)\n",
    "print(f\"Endpoint named {vs_endpoint} is ready.\")"
   ]
  },
  {
   "cell_type": "code",
   "execution_count": 0,
   "metadata": {
    "application/vnd.databricks.v1+cell": {
     "cellMetadata": {
      "byteLimit": 2048000,
      "rowLimit": 10000
     },
     "inputWidgets": {},
     "nuid": "daf82a21-d862-45e8-85c8-839f22cadc00",
     "showTitle": false,
     "tableResultSettingsMap": {},
     "title": ""
    }
   },
   "outputs": [],
   "source": [
    "\n",
    "from databricks.sdk import WorkspaceClient\n",
    "import databricks.sdk.service.catalog as c\n",
    "\n",
    "#The table we'd like to index\n",
    "source_table_fullname = f\"{catalog}.{sch}.ir_pdf_doc\"\n",
    "# Where we want to store our index\n",
    "vs_index_fullname = f\"{catalog}.{sch}.{unique_name()}_vs_index\"\n"
   ]
  },
  {
   "cell_type": "code",
   "execution_count": 0,
   "metadata": {
    "application/vnd.databricks.v1+cell": {
     "cellMetadata": {
      "byteLimit": 2048000,
      "rowLimit": 10000
     },
     "inputWidgets": {},
     "nuid": "6a16a677-762a-4529-9080-3442f21fb335",
     "showTitle": false,
     "tableResultSettingsMap": {},
     "title": ""
    }
   },
   "outputs": [],
   "source": [
    "vs_index_fullname"
   ]
  },
  {
   "cell_type": "code",
   "execution_count": 0,
   "metadata": {
    "application/vnd.databricks.v1+cell": {
     "cellMetadata": {
      "byteLimit": 2048000,
      "rowLimit": 10000
     },
     "inputWidgets": {},
     "nuid": "f04aa3d2-2dc0-435a-bade-60801f140a63",
     "showTitle": false,
     "tableResultSettingsMap": {},
     "title": ""
    }
   },
   "outputs": [],
   "source": [
    "\n",
    "if not index_exists(vsc, vs_endpoint, vs_index_fullname):\n",
    "  print(f\"Creating index {vs_index_fullname} on endpoint {vs_endpoint}...\")\n",
    "  try:\n",
    "    vsc.create_delta_sync_index(\n",
    "      endpoint_name=vs_endpoint,\n",
    "      index_name=vs_index_fullname,\n",
    "      source_table_name=source_table_fullname,\n",
    "      pipeline_type=\"TRIGGERED\", #Sync needs to be manually triggered\n",
    "      primary_key=\"id\",\n",
    "      embedding_source_column=\"chunk\",\n",
    "      embedding_model_endpoint_name= embedding_model\n",
    "    )\n",
    "  except Exception as e:\n",
    "    display_quota_error(e, vs_endpoint)\n",
    "    raise e\n",
    "  #Let's wait for the index to be ready and all our embeddings to be created and indexed\n",
    "  wait_for_index_to_be_ready(vsc, vs_endpoint, vs_index_fullname)\n",
    "else:\n",
    "  #Trigger a sync to update our vs content with the new data saved in the table\n",
    "  wait_for_index_to_be_ready(vsc, vs_endpoint, vs_index_fullname)\n",
    "  vsc.get_index(vs_endpoint, vs_index_fullname).sync()"
   ]
  },
  {
   "cell_type": "code",
   "execution_count": 0,
   "metadata": {
    "application/vnd.databricks.v1+cell": {
     "cellMetadata": {
      "byteLimit": 2048000,
      "rowLimit": 10000
     },
     "inputWidgets": {},
     "nuid": "a4905b6e-8207-4fde-a9d6-549c2da5c4a0",
     "showTitle": false,
     "tableResultSettingsMap": {},
     "title": ""
    }
   },
   "outputs": [],
   "source": [
    "print(f\"Link do Vector Search criado: https://{dbutils.notebook.entry_point.getDbutils().notebook().getContext().browserHostName().get()}/explore/data/{catalogo}/{sch}/{unique_name()}_vs_index\")"
   ]
  },
  {
   "cell_type": "markdown",
   "metadata": {
    "application/vnd.databricks.v1+cell": {
     "cellMetadata": {
      "byteLimit": 2048000,
      "rowLimit": 10000
     },
     "inputWidgets": {},
     "nuid": "ec244c61-4f59-42ad-ac9b-c3c8a7400846",
     "showTitle": false,
     "tableResultSettingsMap": {},
     "title": ""
    }
   },
   "source": [
    "Testando o vector search criado:"
   ]
  },
  {
   "cell_type": "code",
   "execution_count": 0,
   "metadata": {
    "application/vnd.databricks.v1+cell": {
     "cellMetadata": {
      "byteLimit": 2048000,
      "rowLimit": 10000
     },
     "inputWidgets": {},
     "nuid": "a482747f-7de1-4eaa-b112-f1123297f64c",
     "showTitle": false,
     "tableResultSettingsMap": {},
     "title": ""
    }
   },
   "outputs": [],
   "source": [
    "from databricks.vector_search.client import VectorSearchClient\n",
    "from langchain_community.vectorstores import DatabricksVectorSearch\n",
    "from langchain_community.embeddings import DatabricksEmbeddings\n",
    "\n",
    "embedding = DatabricksEmbeddings(endpoint=embedding_model)\n",
    "\n",
    "def get_retriever(persist_dir: str = None):\n",
    "    #Get the vector search index\n",
    "    vsc = VectorSearchClient(disable_notice=True)\n",
    "    vs_index = vsc.get_index(\n",
    "        endpoint_name=vs_endpoint,\n",
    "        index_name=vs_index_fullname\n",
    "    )\n",
    "\n",
    "    # Create the retriever\n",
    "    vectorstore = DatabricksVectorSearch( \n",
    "        vs_index, text_column=\"chunk\", embedding=embedding\n",
    "    )\n",
    "    return vectorstore.as_retriever(search_kwargs={'k': 3})\n",
    "\n",
    "# test our retriever\n",
    "vectorstore = get_retriever()\n",
    "similar_documents = vectorstore.get_relevant_documents(\"posso cancelar o compartilhamento?\")\n",
    "\n",
    "print(f\"Relevant documents: {similar_documents[0]}\")"
   ]
  },
  {
   "cell_type": "markdown",
   "metadata": {
    "application/vnd.databricks.v1+cell": {
     "cellMetadata": {
      "byteLimit": 2048000,
      "rowLimit": 10000
     },
     "inputWidgets": {},
     "nuid": "6333828a-59fe-4b8d-be61-d5f7fc792b86",
     "showTitle": false,
     "tableResultSettingsMap": {},
     "title": ""
    }
   },
   "source": [
    "### Criando o Agente RAG\n",
    "\n",
    "Criando o chat adicionando um prompt e o conteúdo encontrado no vector search para complementar a resposta do LLM."
   ]
  },
  {
   "cell_type": "code",
   "execution_count": 0,
   "metadata": {
    "application/vnd.databricks.v1+cell": {
     "cellMetadata": {
      "byteLimit": 2048000,
      "rowLimit": 10000
     },
     "inputWidgets": {},
     "nuid": "d85c7a5d-e6b2-4cc3-ae5a-b1399a9f5a4a",
     "showTitle": false,
     "tableResultSettingsMap": {},
     "title": ""
    }
   },
   "outputs": [],
   "source": [
    "from langchain.chains import RetrievalQA\n",
    "from langchain.prompts import PromptTemplate\n",
    "from langchain_community.chat_models import ChatDatabricks\n",
    "\n",
    "TEMPLATE = \"\"\"Você é um assistente da receita federal que responde dúvidas sobre o imposto de renda. Todas as respostas devem ser baseadas no contexto abaixo.\n",
    "Caso o contexto abaixo não fornece uma resposta precisa, responda \"Desculpe, não tenho informações suficientes para responder esta pergunta.\"\n",
    "Assuntos não relacionados ao imposto de renda não devem ser respondidos.\n",
    "{context}\n",
    "Pergunta: {question}\n",
    "Resposta:\n",
    "\"\"\"\n",
    "prompt = PromptTemplate(template=TEMPLATE, input_variables=[\"context\", \"question\"])\n",
    "chat_model = ChatDatabricks(endpoint=instruct_model)\n",
    "\n",
    "chain = RetrievalQA.from_chain_type(\n",
    "    llm=chat_model,\n",
    "    chain_type=\"stuff\",\n",
    "    retriever=get_retriever(),\n",
    "    chain_type_kwargs={\"prompt\": prompt}\n",
    ")"
   ]
  },
  {
   "cell_type": "markdown",
   "metadata": {
    "application/vnd.databricks.v1+cell": {
     "cellMetadata": {
      "byteLimit": 2048000,
      "rowLimit": 10000
     },
     "inputWidgets": {},
     "nuid": "08ecf538-66be-4617-b608-bafde4edd3e8",
     "showTitle": false,
     "tableResultSettingsMap": {},
     "title": ""
    }
   },
   "source": [
    "Testando o RAG"
   ]
  },
  {
   "cell_type": "code",
   "execution_count": 0,
   "metadata": {
    "application/vnd.databricks.v1+cell": {
     "cellMetadata": {
      "byteLimit": 2048000,
      "rowLimit": 10000
     },
     "inputWidgets": {},
     "nuid": "7f3d14c6-60ec-4852-b513-f323a9d8b573",
     "showTitle": false,
     "tableResultSettingsMap": {},
     "title": ""
    }
   },
   "outputs": [],
   "source": [
    "import langchain\n",
    "\n",
    "langchain.debug = False\n",
    "question = {\"query\": \"Posso atualizar o valor do imovel?\", \"columns\" : [\"response\"]}\n",
    "answer = chain.invoke(question)\n",
    "print(answer['result'])"
   ]
  },
  {
   "cell_type": "code",
   "execution_count": 0,
   "metadata": {
    "application/vnd.databricks.v1+cell": {
     "cellMetadata": {
      "byteLimit": 2048000,
      "rowLimit": 10000
     },
     "inputWidgets": {},
     "nuid": "c728ec90-04c5-4444-ab0f-7b8bb346c591",
     "showTitle": false,
     "tableResultSettingsMap": {},
     "title": ""
    }
   },
   "outputs": [],
   "source": []
  }
 ],
 "metadata": {
  "application/vnd.databricks.v1+notebook": {
   "computePreferences": null,
   "dashboards": [],
   "environmentMetadata": null,
   "inputWidgetPreferences": null,
   "language": "python",
   "notebookMetadata": {
    "pythonIndentUnit": 2
   },
   "notebookName": "02. Rag Chatbot IR - VS",
   "widgets": {
    "catalog": {
     "currentValue": "workshop_databricks_jsf",
     "nuid": "523a14e9-9930-44fc-b404-cac2aa1ff573",
     "typedWidgetInfo": {
      "autoCreated": false,
      "defaultValue": "workshop_databricks_jsf",
      "label": "Catálogo",
      "name": "catalog",
      "options": {
       "widgetDisplayType": "Text",
       "validationRegex": null
      },
      "parameterDataType": "String"
     },
     "widgetInfo": {
      "widgetType": "text",
      "defaultValue": "workshop_databricks_jsf",
      "label": "Catálogo",
      "name": "catalog",
      "options": {
       "widgetType": "text",
       "autoCreated": null,
       "validationRegex": null
      }
     }
    },
    "schema": {
     "currentValue": "agents",
     "nuid": "f95a16ef-4573-49ae-bd8d-8896bae16790",
     "typedWidgetInfo": {
      "autoCreated": false,
      "defaultValue": "juliandro_figueiro_my",
      "label": "Schema",
      "name": "schema",
      "options": {
       "widgetDisplayType": "Text",
       "validationRegex": null
      },
      "parameterDataType": "String"
     },
     "widgetInfo": {
      "widgetType": "text",
      "defaultValue": "juliandro_figueiro_my",
      "label": "Schema",
      "name": "schema",
      "options": {
       "widgetType": "text",
       "autoCreated": null,
       "validationRegex": null
      }
     }
    },
    "volume_path": {
     "currentValue": "/Volumes/workshop_databricks_jsf/juliandro_figueiro_my/vol_ir",
     "nuid": "f2ad33d9-db2f-4dfe-966a-019b6ed552f1",
     "typedWidgetInfo": {
      "autoCreated": false,
      "defaultValue": "/Volumes/workshop_databricks_jsf/juliandro_figueiro_my/vol_ir",
      "label": "Caminho para o Volume",
      "name": "volume_path",
      "options": {
       "widgetDisplayType": "Text",
       "validationRegex": null
      },
      "parameterDataType": "String"
     },
     "widgetInfo": {
      "widgetType": "text",
      "defaultValue": "/Volumes/workshop_databricks_jsf/juliandro_figueiro_my/vol_ir",
      "label": "Caminho para o Volume",
      "name": "volume_path",
      "options": {
       "widgetType": "text",
       "autoCreated": null,
       "validationRegex": null
      }
     }
    },
    "vs_endpoint": {
     "currentValue": "vs_workshop_23_07",
     "nuid": "1f886b1b-af1c-4a6d-9c5a-e37b06983646",
     "typedWidgetInfo": {
      "autoCreated": false,
      "defaultValue": "vs_workshop_23_07",
      "label": "Nome do endpoint de Vector Search",
      "name": "vs_endpoint",
      "options": {
       "widgetDisplayType": "Text",
       "validationRegex": null
      },
      "parameterDataType": "String"
     },
     "widgetInfo": {
      "widgetType": "text",
      "defaultValue": "vs_workshop_23_07",
      "label": "Nome do endpoint de Vector Search",
      "name": "vs_endpoint",
      "options": {
       "widgetType": "text",
       "autoCreated": null,
       "validationRegex": null
      }
     }
    }
   }
  },
  "language_info": {
   "name": "python"
  }
 },
 "nbformat": 4,
 "nbformat_minor": 0
}
