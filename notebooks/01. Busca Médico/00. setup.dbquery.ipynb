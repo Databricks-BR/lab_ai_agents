{
 "cells": [
  {
   "cell_type": "code",
   "execution_count": 0,
   "metadata": {
    "application/vnd.databricks.v1+cell": {
     "cellMetadata": {
      "byteLimit": 10485760,
      "rowLimit": 1000
     },
     "inputWidgets": {},
     "nuid": "8c58891e-45bc-4b0e-9ac4-e87effa7d48f",
     "showTitle": false,
     "tableResultSettingsMap": {},
     "title": ""
    }
   },
   "outputs": [],
   "source": [
    "--###################################################################################\n",
    "-- DECLARANDO E SETANDO AS VARIÁVEIS, NÃO ESQUEÇA DE DEFINIR O PARAMETRO \"INICIAIS\" #\n",
    "--###################################################################################\n",
    "DECLARE catalogo string;\n",
    "SET var catalogo = concat('workshop_databricks_', :iniciais);\n",
    "\n",
    "--##################################################\n",
    "-- CRIAÇÃO DO CATALOGO E SCHEMA                    #\n",
    "--##################################################\n",
    "CREATE  CATALOG IF NOT EXISTS IDENTIFIER(catalogo) ;\n",
    "USE CATALOG IDENTIFIER(catalogo);\n",
    "CREATE SCHEMA IF NOT EXISTS agents;\n",
    "\n",
    "USE CATALOG IDENTIFIER(catalogo);\n",
    "USE SCHEMA agents;\n",
    "\n",
    "--##################################################\n",
    "-- CRIAÇÃO DO VOLUME                               #\n",
    "--##################################################\n",
    "\n",
    "CREATE VOLUME IF NOT EXISTS agents.vol_agent;\n",
    "\n",
    "--##################################################\n",
    "-- CRIAÇÃO DAS TABELAS                             #\n",
    "--##################################################\n",
    "CREATE TABLE IF NOT EXISTS pacientes (\n",
    "  nome STRING,\n",
    "  cpf STRING,\n",
    "  endereco STRING,\n",
    "  plano STRING);\n",
    "\n",
    "CREATE TABLE IF NOT EXISTS medicos (\n",
    "  nome_medico STRING,\n",
    "  endereco STRING,\n",
    "  cidade STRING,\n",
    "  estado STRING,\n",
    "  pais STRING,\n",
    "  cep STRING,\n",
    "  latitude STRING,\n",
    "  longitude STRING,\n",
    "  especialidade STRING,\n",
    "  planos_aceitos ARRAY<STRING>,\n",
    "  bairro STRING);\n",
    "  \n"
   ]
  }
 ],
 "metadata": {
  "application/vnd.databricks.v1+notebook": {
   "computePreferences": null,
   "dashboards": [],
   "environmentMetadata": null,
   "inputWidgetPreferences": null,
   "language": "sql",
   "notebookMetadata": {
    "pythonIndentUnit": 2,
    "sqlQueryOptions": {
     "applyAutoLimit": true,
     "catalog": "main",
     "schema": "default"
    }
   },
   "notebookName": "00. setup.dbquery.ipynb",
   "widgets": {
    "iniciais": {
     "currentValue": "jsf",
     "nuid": "7e37bbf5-608d-495d-8df1-e3b3e8de978c",
     "typedWidgetInfo": {
      "autoCreated": false,
      "defaultValue": "",
      "label": "iniciais",
      "name": "iniciais",
      "options": {
       "widgetDisplayType": "Text",
       "validationRegex": null
      },
      "parameterDataType": "String"
     },
     "widgetInfo": {
      "widgetType": "text",
      "defaultValue": "",
      "label": "iniciais",
      "name": "iniciais",
      "options": {
       "widgetType": "text",
       "autoCreated": false,
       "validationRegex": null
      }
     }
    }
   }
  },
  "language_info": {
   "name": "sql"
  }
 },
 "nbformat": 4,
 "nbformat_minor": 0
}
