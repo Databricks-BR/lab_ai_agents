{
 "cells": [
  {
   "cell_type": "markdown",
   "metadata": {
    "application/vnd.databricks.v1+cell": {
     "cellMetadata": {},
     "inputWidgets": {},
     "nuid": "23a196e7-3b6f-4a43-b709-cf0d6ccaaa6b",
     "showTitle": false,
     "tableResultSettingsMap": {},
     "title": ""
    }
   },
   "source": [
    "%md <img src=\"https://github.com/Databricks-BR/lab_genai/blob/main/img/header.png?raw=true\" width=100%>\n",
    "\n",
    "# Hands-On LAB 01 - Criando funções\n",
    "\n",
    "Treinamento Hands-on na plataforma Databricks com foco nas funcionalidades de IA Generativa."
   ]
  },
  {
   "cell_type": "markdown",
   "metadata": {
    "application/vnd.databricks.v1+cell": {
     "cellMetadata": {},
     "inputWidgets": {},
     "nuid": "652fe02a-b4ba-4bff-bf12-113b0c151945",
     "showTitle": false,
     "tableResultSettingsMap": {},
     "title": ""
    }
   },
   "source": [
    "# Define as Variáveis"
   ]
  },
  {
   "cell_type": "code",
   "execution_count": 0,
   "metadata": {
    "application/vnd.databricks.v1+cell": {
     "cellMetadata": {
      "byteLimit": 2048000,
      "rowLimit": 10000
     },
     "inputWidgets": {},
     "nuid": "2477efbf-6769-4d05-a4a0-e184eb595d5f",
     "showTitle": false,
     "tableResultSettingsMap": {},
     "title": ""
    }
   },
   "outputs": [],
   "source": [
    "dbutils.widgets.text(\"iniciais\", \"\")\n",
    "iniciais = dbutils.widgets.get(\"iniciais\")"
   ]
  },
  {
   "cell_type": "code",
   "execution_count": 0,
   "metadata": {
    "application/vnd.databricks.v1+cell": {
     "cellMetadata": {
      "byteLimit": 2048000,
      "rowLimit": 10000
     },
     "inputWidgets": {},
     "nuid": "f99e40d4-19f4-4c12-a803-67725641f776",
     "showTitle": false,
     "tableResultSettingsMap": {},
     "title": ""
    }
   },
   "outputs": [],
   "source": [
    "dbutils.widgets.text(\"CATALOG\", f\"workshop_databricks_{iniciais}\")\n",
    "dbutils.widgets.text(\"SCHEMA\", \"agents\")\n",
    "dbutils.widgets.text(\"medicos_table\", f\"{dbutils.widgets.get('CATALOG')}.{dbutils.widgets.get('SCHEMA')}.medicos\")\n",
    "dbutils.widgets.text(\"pacientes_table\", f\"{dbutils.widgets.get('CATALOG')}.{dbutils.widgets.get('SCHEMA')}.pacientes\")"
   ]
  },
  {
   "cell_type": "code",
   "execution_count": 0,
   "metadata": {
    "application/vnd.databricks.v1+cell": {
     "cellMetadata": {
      "byteLimit": 2048000,
      "rowLimit": 10000
     },
     "inputWidgets": {},
     "nuid": "957f6c64-01b1-4ec1-93c7-7ebd588e84b2",
     "showTitle": false,
     "tableResultSettingsMap": {},
     "title": ""
    }
   },
   "outputs": [],
   "source": [
    "CATALOG = dbutils.widgets.get(\"CATALOG\")\n",
    "SCHEMA = dbutils.widgets.get(\"SCHEMA\")\n",
    "medicos_table = dbutils.widgets.get('medicos_table')\n",
    "pacientes_table = dbutils.widgets.get('pacientes_table')"
   ]
  },
  {
   "cell_type": "markdown",
   "metadata": {
    "application/vnd.databricks.v1+cell": {
     "cellMetadata": {},
     "inputWidgets": {},
     "nuid": "01d94e29-962d-423c-aaee-bddeff8a810e",
     "showTitle": false,
     "tableResultSettingsMap": {},
     "title": ""
    }
   },
   "source": [
    "# Cria Funções"
   ]
  },
  {
   "cell_type": "markdown",
   "metadata": {
    "application/vnd.databricks.v1+cell": {
     "cellMetadata": {},
     "inputWidgets": {},
     "nuid": "2c85b6d8-9270-4f71-9be9-2148244a32be",
     "showTitle": false,
     "tableResultSettingsMap": {},
     "title": ""
    }
   },
   "source": [
    "## Busca Paciente"
   ]
  },
  {
   "cell_type": "code",
   "execution_count": 0,
   "metadata": {
    "application/vnd.databricks.v1+cell": {
     "cellMetadata": {
      "byteLimit": 2048000,
      "rowLimit": 10000
     },
     "inputWidgets": {},
     "nuid": "ba6f22d5-82c7-44ca-9d6a-92b4212aed28",
     "showTitle": false,
     "tableResultSettingsMap": {},
     "title": ""
    }
   },
   "outputs": [],
   "source": [
    "spark.sql(f\"\"\"CREATE OR REPLACE FUNCTION {CATALOG}.{SCHEMA}.buscar_paciente_por_cpf(\n",
    "    cpf_paciente STRING COMMENT 'CPF do paciente que será usado para buscar os dados'\n",
    "  )\n",
    "  RETURNS TABLE(\n",
    "    nome STRING COMMENT 'Nome completo do paciente',\n",
    "    cpf STRING COMMENT 'CPF do paciente',\n",
    "    endereco STRING COMMENT 'Endereço completo do paciente',\n",
    "    plano STRING COMMENT 'Plano de saúde do paciente'\n",
    "  )\n",
    "  COMMENT 'Função para buscar os dados de um paciente com base no CPF fornecido. A função retorna as informações do paciente da tabela pacientes.'\n",
    "  RETURN\n",
    "    SELECT\n",
    "      nome,\n",
    "      cpf,\n",
    "      endereco,\n",
    "      plano\n",
    "    FROM\n",
    "      {pacientes_table}\n",
    "    WHERE\n",
    "      cpf = cpf_paciente;\"\"\")"
   ]
  },
  {
   "cell_type": "code",
   "execution_count": 0,
   "metadata": {
    "application/vnd.databricks.v1+cell": {
     "cellMetadata": {},
     "inputWidgets": {},
     "nuid": "c7a3b74e-4e60-42c4-abe5-dcb9212914db",
     "showTitle": false,
     "tableResultSettingsMap": {},
     "title": ""
    }
   },
   "outputs": [],
   "source": [
    "spark.sql(f\"SELECT * FROM {CATALOG}.{SCHEMA}.buscar_paciente_por_cpf('51749280620')\").display()"
   ]
  },
  {
   "cell_type": "markdown",
   "metadata": {
    "application/vnd.databricks.v1+cell": {
     "cellMetadata": {},
     "inputWidgets": {},
     "nuid": "76862e4a-3f40-4110-9179-826c57cc01af",
     "showTitle": false,
     "tableResultSettingsMap": {},
     "title": ""
    }
   },
   "source": [
    "## Busca Médicos"
   ]
  },
  {
   "cell_type": "code",
   "execution_count": 0,
   "metadata": {
    "application/vnd.databricks.v1+cell": {
     "cellMetadata": {},
     "inputWidgets": {},
     "nuid": "34467060-717f-46d3-919d-be0c84357654",
     "showTitle": false,
     "tableResultSettingsMap": {},
     "title": ""
    }
   },
   "outputs": [],
   "source": [
    "spark.sql(f\"\"\"CREATE OR REPLACE FUNCTION {CATALOG}.{SCHEMA}.encontrar_medicos_proximos(\n",
    "  lat_usuario DOUBLE COMMENT 'Latitude do usuário',\n",
    "  long_usuario DOUBLE COMMENT 'Longitude do usuário',\n",
    "  especialidade_usuario STRING COMMENT 'Especialidade médica desejada pelo usuário',\n",
    "  plano_usuario STRING COMMENT 'Plano de saúde do usuário',\n",
    "  raio_km INT DEFAULT 20 COMMENT 'Raio de busca em quilômetros'\n",
    ")\n",
    "RETURNS TABLE(\n",
    "  nome_medico STRING COMMENT 'Nome do médico',\n",
    "  especialidade STRING COMMENT 'Especialidade do médico',\n",
    "  endereco STRING COMMENT 'Endereço do consultório',\n",
    "  bairro STRING COMMENT 'Bairro do consultório',\n",
    "  planos_aceitos ARRAY<STRING> COMMENT 'Lista de planos aceitos pelo médico (como array)',\n",
    "  latitude DOUBLE COMMENT 'Latitude do consultório',\n",
    "  longitude DOUBLE COMMENT 'Longitude do consultório',\n",
    "  distancia_km DOUBLE COMMENT 'Distância em quilômetros entre o usuário e o médico'\n",
    ")\n",
    "COMMENT 'Função v3: Usa array_contains para planos e calcula distância após filtros.'\n",
    "RETURN\n",
    "  WITH medicos_filtrados AS (\n",
    "    -- Passo 1: Aplicar filtros simples primeiro\n",
    "    SELECT\n",
    "      m.nome_medico,\n",
    "      m.especialidade,\n",
    "      m.endereco,\n",
    "      m.bairro,\n",
    "      m.planos_aceitos,\n",
    "      m.latitude,\n",
    "      m.longitude\n",
    "    FROM\n",
    "      {medicos_table} m\n",
    "    WHERE\n",
    "      -- Filtro de especialidade\n",
    "      (especialidade_usuario IS NULL OR UPPER(m.especialidade) = UPPER(especialidade_usuario))\n",
    "      -- Filtro de plano OTIMIZADO usando array_contains\n",
    "      AND array_contains(m.planos_aceitos, plano_usuario)\n",
    "      -- Filtro espacial inicial (bounding box)\n",
    "      AND m.latitude BETWEEN lat_usuario - (raio_km / 111.0) AND lat_usuario + (raio_km / 111.0)\n",
    "      AND m.longitude BETWEEN long_usuario - (raio_km / (111.0 * cos(radians(lat_usuario)))) AND long_usuario + (raio_km / (111.0 * cos(radians(lat_usuario))))\n",
    "  ),\n",
    "  resultados_com_distancia AS (\n",
    "    -- Passo 2: Calcular a distância APENAS para os médicos filtrados\n",
    "    SELECT\n",
    "      mf.nome_medico,\n",
    "      mf.especialidade,\n",
    "      mf.endereco,\n",
    "      mf.bairro,\n",
    "      mf.planos_aceitos,\n",
    "      mf.latitude,\n",
    "      mf.longitude,\n",
    "      (6371 * acos(\n",
    "        cos(radians(lat_usuario)) *\n",
    "        cos(radians(mf.latitude)) *\n",
    "        cos(radians(mf.longitude) - radians(long_usuario)) +\n",
    "        sin(radians(lat_usuario)) *\n",
    "        sin(radians(mf.latitude))\n",
    "      )) AS distancia_km\n",
    "    FROM\n",
    "      medicos_filtrados mf\n",
    "  )\n",
    "  -- Passo 3: Aplicar o filtro final de raio, ordenar e limitar\n",
    "  SELECT\n",
    "    r.nome_medico,\n",
    "    r.especialidade,\n",
    "    r.endereco,\n",
    "    r.bairro,\n",
    "    r.planos_aceitos,\n",
    "    r.latitude,\n",
    "    r.longitude,\n",
    "    r.distancia_km\n",
    "  FROM resultados_com_distancia r\n",
    "  WHERE\n",
    "    r.distancia_km <= raio_km\n",
    "  ORDER BY\n",
    "    distancia_km ASC\n",
    "  LIMIT 10;\"\"\")"
   ]
  },
  {
   "cell_type": "code",
   "execution_count": 0,
   "metadata": {
    "application/vnd.databricks.v1+cell": {
     "cellMetadata": {},
     "inputWidgets": {},
     "nuid": "b3b7642f-02a7-44e0-a55a-b01651519846",
     "showTitle": false,
     "tableResultSettingsMap": {},
     "title": ""
    }
   },
   "outputs": [],
   "source": [
    "spark.sql(\n",
    "    f\"\"\"SELECT * FROM {CATALOG}.{SCHEMA}.encontrar_medicos_proximos\n",
    "                (\n",
    "                  -23.533773, \n",
    "                  -46.625290, \n",
    "                  'Cardiologia', \n",
    "                  'Diamante',\n",
    "                  20\n",
    "                )\"\"\"\n",
    ").display()"
   ]
  },
  {
   "cell_type": "markdown",
   "metadata": {
    "application/vnd.databricks.v1+cell": {
     "cellMetadata": {},
     "inputWidgets": {},
     "nuid": "36977b52-db4b-432f-bc72-054ce4fa0316",
     "showTitle": false,
     "tableResultSettingsMap": {},
     "title": ""
    }
   },
   "source": [
    "## Calcular Lat & Long"
   ]
  },
  {
   "cell_type": "code",
   "execution_count": 0,
   "metadata": {
    "application/vnd.databricks.v1+cell": {
     "cellMetadata": {},
     "inputWidgets": {},
     "nuid": "cbc09e23-440b-465a-a087-be467e2d3c47",
     "showTitle": false,
     "tableResultSettingsMap": {},
     "title": ""
    }
   },
   "outputs": [],
   "source": [
    "spark.sql(\n",
    "    f\"\"\"CREATE OR REPLACE FUNCTION {CATALOG}.{SCHEMA}.geocode_endereco(endereco STRING)\n",
    "        RETURNS STRUCT<latitude DOUBLE, longitude DOUBLE>\n",
    "        LANGUAGE PYTHON\n",
    "        AS\n",
    "        $$\n",
    "        import http.client\n",
    "        import json\n",
    "        import urllib.parse\n",
    "        import time\n",
    "\n",
    "        def geocode_via_nominatim(address):\n",
    "            # Codificar o endereço para URL\n",
    "            encoded_address = urllib.parse.quote(address)\n",
    "            \n",
    "            # Configurar a conexão HTTPS\n",
    "            conn = http.client.HTTPSConnection('nominatim.openstreetmap.org')\n",
    "            \n",
    "            # Adicionar um User-Agent válido (obrigatório para Nominatim)\n",
    "            headers = {{ \n",
    "                'User-Agent': 'Databricks-Geocoding-Function/1.0',\n",
    "                'Accept': 'application/json'\n",
    "            }} \n",
    "            \n",
    "            # Construir o caminho da requisição\n",
    "            request_path = f'/search?q={{encoded_address}}&format=json&limit=1'\n",
    "            \n",
    "            # Fazer a requisição GET\n",
    "            conn.request('GET', request_path, headers=headers)\n",
    "            \n",
    "            # Obter a resposta\n",
    "            response = conn.getresponse()\n",
    "            \n",
    "            # Ler e decodificar a resposta JSON\n",
    "            data = json.loads(response.read().decode())\n",
    "            \n",
    "            # Verificar se a resposta contém resultados\n",
    "            if data and len(data) > 0:\n",
    "                # Extrair latitude e longitude\n",
    "                return (float(data[0]['lat']), float(data[0]['lon']))\n",
    "            else:\n",
    "                # Retornar None em caso de erro\n",
    "                return (None, None)\n",
    "\n",
    "        result = geocode_via_nominatim(endereco)\n",
    "        return {{'latitude': result[0], 'longitude': result[1]}}\n",
    "        $$;\"\"\"\n",
    ")"
   ]
  },
  {
   "cell_type": "code",
   "execution_count": 0,
   "metadata": {
    "application/vnd.databricks.v1+cell": {
     "cellMetadata": {},
     "inputWidgets": {},
     "nuid": "cc1e1c11-411f-40d4-97a9-e5adefaa097f",
     "showTitle": false,
     "tableResultSettingsMap": {},
     "title": ""
    }
   },
   "outputs": [],
   "source": [
    "spark.sql(f\"SELECT {CATALOG}.{SCHEMA}.geocode_endereco('Avenida Paulista, 1000 - Bela Vista, São Paulo - SP')\").display()"
   ]
  }
 ],
 "metadata": {
  "application/vnd.databricks.v1+notebook": {
   "computePreferences": null,
   "dashboards": [],
   "environmentMetadata": null,
   "inputWidgetPreferences": null,
   "language": "python",
   "notebookMetadata": {
    "pythonIndentUnit": 2,
    "widgetLayout": []
   },
   "notebookName": "02. Create Functions",
   "widgets": {
    "CATALOG": {
     "currentValue": "workshop_databricks_vfm",
     "nuid": "4e03c578-c7ad-4a38-9a3d-d10f8a9f3cba",
     "typedWidgetInfo": {
      "autoCreated": false,
      "defaultValue": "workshop_databricks_vfm",
      "label": null,
      "name": "CATALOG",
      "options": {
       "widgetDisplayType": "Text",
       "validationRegex": null
      },
      "parameterDataType": "String"
     },
     "widgetInfo": {
      "widgetType": "text",
      "defaultValue": "workshop_databricks_vfm",
      "label": null,
      "name": "CATALOG",
      "options": {
       "widgetType": "text",
       "autoCreated": null,
       "validationRegex": null
      }
     }
    },
    "SCHEMA": {
     "currentValue": "agents",
     "nuid": "eee39d60-fc4a-4e7f-bb6b-e6539bc89171",
     "typedWidgetInfo": {
      "autoCreated": false,
      "defaultValue": "agents",
      "label": null,
      "name": "SCHEMA",
      "options": {
       "widgetDisplayType": "Text",
       "validationRegex": null
      },
      "parameterDataType": "String"
     },
     "widgetInfo": {
      "widgetType": "text",
      "defaultValue": "agents",
      "label": null,
      "name": "SCHEMA",
      "options": {
       "widgetType": "text",
       "autoCreated": null,
       "validationRegex": null
      }
     }
    },
    "iniciais": {
     "currentValue": "vfm",
     "nuid": "da0a83a8-3309-47ed-9755-00e7e4e89e14",
     "typedWidgetInfo": {
      "autoCreated": false,
      "defaultValue": "",
      "label": null,
      "name": "iniciais",
      "options": {
       "widgetDisplayType": "Text",
       "validationRegex": null
      },
      "parameterDataType": "String"
     },
     "widgetInfo": {
      "widgetType": "text",
      "defaultValue": "",
      "label": null,
      "name": "iniciais",
      "options": {
       "widgetType": "text",
       "autoCreated": null,
       "validationRegex": null
      }
     }
    },
    "medicos_table": {
     "currentValue": "workshop_databricks_vfm.agents.medicos",
     "nuid": "89c742a7-b20b-4625-8fb2-f96a94e96d1f",
     "typedWidgetInfo": {
      "autoCreated": false,
      "defaultValue": "workshop_databricks_vfm.agents.medicos",
      "label": null,
      "name": "medicos_table",
      "options": {
       "widgetDisplayType": "Text",
       "validationRegex": null
      },
      "parameterDataType": "String"
     },
     "widgetInfo": {
      "widgetType": "text",
      "defaultValue": "workshop_databricks_vfm.agents.medicos",
      "label": null,
      "name": "medicos_table",
      "options": {
       "widgetType": "text",
       "autoCreated": null,
       "validationRegex": null
      }
     }
    },
    "pacientes_table": {
     "currentValue": "workshop_databricks_vfm.agents.pacientes",
     "nuid": "18a284c2-eae5-48e8-b453-cd880e2d6263",
     "typedWidgetInfo": {
      "autoCreated": false,
      "defaultValue": "workshop_databricks_vfm.agents.pacientes",
      "label": null,
      "name": "pacientes_table",
      "options": {
       "widgetDisplayType": "Text",
       "validationRegex": null
      },
      "parameterDataType": "String"
     },
     "widgetInfo": {
      "widgetType": "text",
      "defaultValue": "workshop_databricks_vfm.agents.pacientes",
      "label": null,
      "name": "pacientes_table",
      "options": {
       "widgetType": "text",
       "autoCreated": null,
       "validationRegex": null
      }
     }
    }
   }
  },
  "language_info": {
   "name": "python"
  }
 },
 "nbformat": 4,
 "nbformat_minor": 0
}
