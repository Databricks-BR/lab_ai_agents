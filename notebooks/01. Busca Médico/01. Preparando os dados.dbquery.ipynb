{
 "cells": [
  {
   "cell_type": "code",
   "execution_count": 0,
   "metadata": {
    "application/vnd.databricks.v1+cell": {
     "cellMetadata": {
      "byteLimit": 10485760,
      "rowLimit": 1000
     },
     "inputWidgets": {},
     "nuid": "f83f594a-f7b0-4f2f-b94c-5552cd85b66a",
     "showTitle": false,
     "tableResultSettingsMap": {},
     "title": ""
    }
   },
   "outputs": [],
   "source": [
    "DECLARE catalogo STRING;\n",
    "DECLARE paciente STRING;\n",
    "SET var catalogo = concat('workshop_databricks_', :iniciais);\n",
    "\n",
    "USE CATALOG IDENTIFIER(catalogo);\n",
    "USE SCHEMA agents;\n",
    "--###################################################################################################\n",
    "-- PREPARANDO A TABELA PACIENTES USANDO COPY INTO COM FORCE=TRUE, PARA VIABILIZAR O REPROCESSAMENTO #\n",
    "--###################################################################################################\n",
    "TRUNCATE TABLE pacientes;\n",
    "COPY INTO pacientes\n",
    "FROM '/Volumes/<NOME_DO_SEU_CATALOGO>/agents/vol_agent/pacientes.csv'\n",
    "FILEFORMAT = CSV\n",
    "FORMAT_OPTIONS ('header' = 'true')\n",
    "COPY_OPTIONS (\n",
    " 'force' = 'true'\n",
    ");\n",
    "--############################################################\n",
    "-- PREPARANDO DADOS DA TABELA MEDICOS, UTILIZANDO READ_FILES #\n",
    "--############################################################\n",
    "TRUNCATE TABLE medicos;\n",
    "INSERT INTO medicos\n",
    "SELECT nome_medico,endereco,cidade,estado,pais,cep,latitude,longitude, especialidade, from_json(planos_aceitos,'ARRAY<STRING>') planos_aceitos, bairro FROM read_files('/Volumes/<NOME_DO_SEU_CATALOGO>/agents/vol_agent/medicos.csv',\n",
    "  format => 'csv',\n",
    "  quote => '\"',\n",
    "  escape => '\"',\n",
    "  header => true\n",
    ");\n",
    "\n",
    "--######################################################\n",
    "-- VERIFICANDO SE AMBAS TABELAS POSSUEM 1000 REGISTROS #\n",
    "--######################################################\n",
    "SELECT 'A tabela tabela médicos tem: '|| string(count(1))|| ' registros' resultado from medicos\n",
    "UNION ALL\n",
    "SELECT 'A tabela pacientes tem: '|| string(count(1) || ' registros') from pacientes"
   ]
  }
 ],
 "metadata": {
  "application/vnd.databricks.v1+notebook": {
   "computePreferences": null,
   "dashboards": [],
   "environmentMetadata": null,
   "inputWidgetPreferences": null,
   "language": "sql",
   "notebookMetadata": {
    "pythonIndentUnit": 2,
    "sqlQueryOptions": {
     "applyAutoLimit": true,
     "catalog": "main",
     "schema": "default"
    }
   },
   "notebookName": "01. Preparando os dados.dbquery.ipynb",
   "widgets": {
    "iniciais": {
     "currentValue": "jsf",
     "nuid": "7a90661b-429e-4eda-9071-1d5f6e735dce",
     "typedWidgetInfo": {
      "autoCreated": true,
      "defaultValue": "",
      "label": null,
      "name": "iniciais",
      "options": {
       "widgetDisplayType": "Text",
       "validationRegex": null
      },
      "parameterDataType": "String"
     },
     "widgetInfo": {
      "widgetType": "text",
      "defaultValue": "",
      "label": null,
      "name": "iniciais",
      "options": {
       "widgetType": "text",
       "autoCreated": true,
       "validationRegex": null
      }
     }
    }
   }
  },
  "language_info": {
   "name": "sql"
  }
 },
 "nbformat": 4,
 "nbformat_minor": 0
}
